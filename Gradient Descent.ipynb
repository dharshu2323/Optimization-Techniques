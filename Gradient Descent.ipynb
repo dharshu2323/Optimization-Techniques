{
 "cells": [
  {
   "cell_type": "code",
   "execution_count": 1,
   "id": "ffd71f88",
   "metadata": {},
   "outputs": [
    {
     "name": "stdout",
     "output_type": "stream",
     "text": [
      "Iteration 1: x = -8.5000, Objective = 35.7500\n",
      "Iteration 2: x = -7.3000, Objective = 22.7900\n",
      "Iteration 3: x = -6.3400, Objective = 14.4956\n",
      "Iteration 4: x = -5.5720, Objective = 9.1872\n",
      "Iteration 5: x = -4.9576, Objective = 5.7898\n",
      "Iteration 6: x = -4.4661, Objective = 3.6155\n",
      "Iteration 7: x = -4.0729, Objective = 2.2239\n",
      "Iteration 8: x = -3.7583, Objective = 1.3333\n",
      "Iteration 9: x = -3.5066, Objective = 0.7633\n",
      "Iteration 10: x = -3.3053, Objective = 0.3985\n",
      "Iteration 11: x = -3.1442, Objective = 0.1651\n",
      "Iteration 12: x = -3.0154, Objective = 0.0156\n",
      "Iteration 13: x = -2.9123, Objective = -0.0800\n",
      "Iteration 14: x = -2.8299, Objective = -0.1412\n",
      "Iteration 15: x = -2.7639, Objective = -0.1804\n",
      "Iteration 16: x = -2.7111, Objective = -0.2054\n",
      "Iteration 17: x = -2.6689, Objective = -0.2215\n",
      "Iteration 18: x = -2.6351, Objective = -0.2317\n",
      "Iteration 19: x = -2.6081, Objective = -0.2383\n",
      "Iteration 20: x = -2.5865, Objective = -0.2425\n",
      "Final x: -2.5865, Final Objective: -0.2425\n"
     ]
    }
   ],
   "source": [
    "import numpy as np\n",
    "def objective_function(x):\n",
    "    return x**2 + 5*x + 6\n",
    "def gradient(x):\n",
    "    return 2*x + 5\n",
    "\n",
    "# Gradient Descent function\n",
    "def gradient_descent(initial_x, learning_rate, num_iterations):\n",
    "    x = initial_x\n",
    "    for i in range(num_iterations):\n",
    "        grad = gradient(x)\n",
    "        x -= learning_rate * grad\n",
    "        print(f\"Iteration {i+1}: x = {x:.4f}, Objective = {objective_function(x):.4f}\")\n",
    "    return x\n",
    "initial_x = -10  # Initial guess for x\n",
    "learning_rate = 0.1  # Learning rate\n",
    "num_iterations = 20  # Number of iterations\n",
    "final_x = gradient_descent(initial_x, learning_rate, num_iterations)\n",
    "print(f\"Final x: {final_x:.4f}, Final Objective: {objective_function(final_x):.4f}\")"
   ]
  },
  {
   "cell_type": "code",
   "execution_count": null,
   "id": "c2a9340f",
   "metadata": {},
   "outputs": [],
   "source": []
  }
 ],
 "metadata": {
  "kernelspec": {
   "display_name": "Python 3 (ipykernel)",
   "language": "python",
   "name": "python3"
  },
  "language_info": {
   "codemirror_mode": {
    "name": "ipython",
    "version": 3
   },
   "file_extension": ".py",
   "mimetype": "text/x-python",
   "name": "python",
   "nbconvert_exporter": "python",
   "pygments_lexer": "ipython3",
   "version": "3.9.7"
  }
 },
 "nbformat": 4,
 "nbformat_minor": 5
}
